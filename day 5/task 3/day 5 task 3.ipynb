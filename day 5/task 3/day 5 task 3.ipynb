{
 "cells": [
  {
   "cell_type": "code",
   "execution_count": 2,
   "id": "fc671751-52ad-4f1a-83b9-bcc444b24d4f",
   "metadata": {},
   "outputs": [
    {
     "name": "stdout",
     "output_type": "stream",
     "text": [
      "Count Vectorizer Representation:\n",
      "   00  000  000pes  008704050406  0089  0121  01223585236  01223585334  \\\n",
      "0   0    0       0             0     0     0            0            0   \n",
      "1   0    0       0             0     0     0            0            0   \n",
      "2   0    0       0             0     0     0            0            0   \n",
      "3   0    0       0             0     0     0            0            0   \n",
      "4   0    0       0             0     0     0            0            0   \n",
      "\n",
      "   0125698789  02  ...  zogtorius  zoom  zouk  zyada  ¹ã  âªm  âªt  âªve  â¼1  \\\n",
      "0           0   0  ...          0     0     0      0   0    0    0     0    0   \n",
      "1           0   0  ...          0     0     0      0   0    0    0     0    0   \n",
      "2           0   0  ...          0     0     0      0   0    0    0     0    0   \n",
      "3           0   0  ...          0     0     0      0   0    0    0     0    0   \n",
      "4           0   0  ...          0     0     0      0   0    0    0     0    0   \n",
      "\n",
      "   å½ã  \n",
      "0    0  \n",
      "1    0  \n",
      "2    0  \n",
      "3    0  \n",
      "4    0  \n",
      "\n",
      "[5 rows x 8679 columns]\n",
      "\n",
      "TF-IDF Vectorizer Representation:\n",
      "    00  000  000pes  008704050406  0089  0121  01223585236  01223585334  \\\n",
      "0  0.0  0.0     0.0           0.0   0.0   0.0          0.0          0.0   \n",
      "1  0.0  0.0     0.0           0.0   0.0   0.0          0.0          0.0   \n",
      "2  0.0  0.0     0.0           0.0   0.0   0.0          0.0          0.0   \n",
      "3  0.0  0.0     0.0           0.0   0.0   0.0          0.0          0.0   \n",
      "4  0.0  0.0     0.0           0.0   0.0   0.0          0.0          0.0   \n",
      "\n",
      "   0125698789   02  ...  zogtorius  zoom  zouk  zyada   ¹ã  âªm  âªt  âªve  \\\n",
      "0         0.0  0.0  ...        0.0   0.0   0.0    0.0  0.0  0.0  0.0   0.0   \n",
      "1         0.0  0.0  ...        0.0   0.0   0.0    0.0  0.0  0.0  0.0   0.0   \n",
      "2         0.0  0.0  ...        0.0   0.0   0.0    0.0  0.0  0.0  0.0   0.0   \n",
      "3         0.0  0.0  ...        0.0   0.0   0.0    0.0  0.0  0.0  0.0   0.0   \n",
      "4         0.0  0.0  ...        0.0   0.0   0.0    0.0  0.0  0.0  0.0   0.0   \n",
      "\n",
      "   â¼1  å½ã  \n",
      "0  0.0  0.0  \n",
      "1  0.0  0.0  \n",
      "2  0.0  0.0  \n",
      "3  0.0  0.0  \n",
      "4  0.0  0.0  \n",
      "\n",
      "[5 rows x 8679 columns]\n"
     ]
    }
   ],
   "source": [
    "import pandas as pd\n",
    "from sklearn.feature_extraction.text import CountVectorizer, TfidfVectorizer\n",
    "\n",
    "# Load the dataset\n",
    "df = pd.read_csv(\"spam_utf8.csv\", encoding=\"latin-1\")\n",
    "\n",
    "# Selecting relevant columns\n",
    "df = df[['v1', 'v2']]\n",
    "df.columns = ['label', 'text']\n",
    "\n",
    "# Initialize vectorizers\n",
    "count_vectorizer = CountVectorizer()\n",
    "tfidf_vectorizer = TfidfVectorizer()\n",
    "\n",
    "# Fit and transform the text data\n",
    "count_vectors = count_vectorizer.fit_transform(df['text'])\n",
    "tfidf_vectors = tfidf_vectorizer.fit_transform(df['text'])\n",
    "\n",
    "# Convert to DataFrame for better visualization\n",
    "count_df = pd.DataFrame(count_vectors.toarray(), columns=count_vectorizer.get_feature_names_out())\n",
    "tfidf_df = pd.DataFrame(tfidf_vectors.toarray(), columns=tfidf_vectorizer.get_feature_names_out())\n",
    "\n",
    "# Display results\n",
    "print(\"Count Vectorizer Representation:\")\n",
    "print(count_df.head())\n",
    "\n",
    "print(\"\\nTF-IDF Vectorizer Representation:\")\n",
    "print(tfidf_df.head())"
   ]
  },
  {
   "cell_type": "code",
   "execution_count": null,
   "id": "7a3e0b48-2988-49e8-b2b1-780fa7cf9a12",
   "metadata": {},
   "outputs": [],
   "source": []
  }
 ],
 "metadata": {
  "kernelspec": {
   "display_name": "Python 3 (ipykernel)",
   "language": "python",
   "name": "python3"
  },
  "language_info": {
   "codemirror_mode": {
    "name": "ipython",
    "version": 3
   },
   "file_extension": ".py",
   "mimetype": "text/x-python",
   "name": "python",
   "nbconvert_exporter": "python",
   "pygments_lexer": "ipython3",
   "version": "3.12.7"
  }
 },
 "nbformat": 4,
 "nbformat_minor": 5
}
