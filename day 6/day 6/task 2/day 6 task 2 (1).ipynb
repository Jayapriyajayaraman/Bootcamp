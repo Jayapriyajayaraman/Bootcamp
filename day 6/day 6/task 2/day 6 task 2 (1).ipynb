{
 "cells": [
  {
   "cell_type": "code",
   "execution_count": 2,
   "id": "cbf19412-8b68-4248-92c8-95cff7cf0382",
   "metadata": {},
   "outputs": [
    {
     "data": {
      "text/html": [
       "<div>\n",
       "<style scoped>\n",
       "    .dataframe tbody tr th:only-of-type {\n",
       "        vertical-align: middle;\n",
       "    }\n",
       "\n",
       "    .dataframe tbody tr th {\n",
       "        vertical-align: top;\n",
       "    }\n",
       "\n",
       "    .dataframe thead th {\n",
       "        text-align: right;\n",
       "    }\n",
       "</style>\n",
       "<table border=\"1\" class=\"dataframe\">\n",
       "  <thead>\n",
       "    <tr style=\"text-align: right;\">\n",
       "      <th></th>\n",
       "      <th>Ball No</th>\n",
       "      <th>Over</th>\n",
       "      <th>Bowler</th>\n",
       "      <th>Batter</th>\n",
       "      <th>Ball Type</th>\n",
       "      <th>Shot Type</th>\n",
       "      <th>Runs Scored</th>\n",
       "    </tr>\n",
       "  </thead>\n",
       "  <tbody>\n",
       "    <tr>\n",
       "      <th>0</th>\n",
       "      <td>2</td>\n",
       "      <td>19</td>\n",
       "      <td>Boult</td>\n",
       "      <td>Gill</td>\n",
       "      <td>legal</td>\n",
       "      <td>boundary</td>\n",
       "      <td>4</td>\n",
       "    </tr>\n",
       "    <tr>\n",
       "      <th>1</th>\n",
       "      <td>1</td>\n",
       "      <td>19</td>\n",
       "      <td>Boult</td>\n",
       "      <td>Gill</td>\n",
       "      <td>legal</td>\n",
       "      <td>other</td>\n",
       "      <td>1</td>\n",
       "    </tr>\n",
       "    <tr>\n",
       "      <th>2</th>\n",
       "      <td>6</td>\n",
       "      <td>18</td>\n",
       "      <td>Chahal</td>\n",
       "      <td>Miller</td>\n",
       "      <td>legal</td>\n",
       "      <td>wicket</td>\n",
       "      <td>0</td>\n",
       "    </tr>\n",
       "    <tr>\n",
       "      <th>3</th>\n",
       "      <td>5</td>\n",
       "      <td>18</td>\n",
       "      <td>Chahal</td>\n",
       "      <td>Miller</td>\n",
       "      <td>legal</td>\n",
       "      <td>boundary</td>\n",
       "      <td>6</td>\n",
       "    </tr>\n",
       "  </tbody>\n",
       "</table>\n",
       "</div>"
      ],
      "text/plain": [
       "   Ball No  Over  Bowler  Batter Ball Type Shot Type  Runs Scored\n",
       "0        2    19   Boult    Gill     legal  boundary            4\n",
       "1        1    19   Boult    Gill     legal     other            1\n",
       "2        6    18  Chahal  Miller     legal    wicket            0\n",
       "3        5    18  Chahal  Miller     legal  boundary            6"
      ]
     },
     "metadata": {},
     "output_type": "display_data"
    }
   ],
   "source": [
    "import pandas as pd\n",
    "import re\n",
    "commentary_text = \"\"\"\n",
    "19.2 Boult to Gill, FOUR! Crunched past cover\n",
    "19.1 Boult to Gill, 1 run, taps to point, quick single\n",
    "18.6 Chahal to Miller, OUT! Caught at deep mid-wicket\n",
    "18.5 Chahal to Miller, SIX! Massive hit over long-on\n",
    "\"\"\"\n",
    "data = []\n",
    "for line in commentary_text.strip().split(\"\\n\"):\n",
    "    match = re.match(r\"(\\d+)\\.(\\d+) (\\w+) to (\\w+), (.*)\", line)\n",
    "    \n",
    "    if match:\n",
    "        over = int(match.group(1))\n",
    "        ball_no = int(match.group(2))\n",
    "        bowler = match.group(3)\n",
    "        batter = match.group(4)\n",
    "        ball_details = match.group(5)\n",
    "        if \"FOUR\" in ball_details:\n",
    "            ball_type = \"legal\"\n",
    "            shot_type = \"boundary\"\n",
    "            runs = 4\n",
    "        elif \"SIX\" in ball_details:\n",
    "            ball_type = \"legal\"\n",
    "            shot_type = \"boundary\"\n",
    "            runs = 6\n",
    "        elif \"OUT\" in ball_details:\n",
    "            ball_type = \"legal\"\n",
    "            shot_type = \"wicket\"\n",
    "            runs = 0\n",
    "        elif \"wide\" in ball_details:\n",
    "            ball_type = \"wide\"\n",
    "            shot_type = \"none\"\n",
    "            runs = 1\n",
    "        elif \"no ball\" in ball_details:\n",
    "            ball_type = \"no ball\"\n",
    "            shot_type = \"none\"\n",
    "            runs = 1\n",
    "        else:\n",
    "            ball_type = \"legal\"\n",
    "            shot_type = \"other\"\n",
    "            runs = int(re.search(r\"(\\d+) run\", ball_details).group(1)) if re.search(r\"(\\d+) run\", ball_details) else 0\n",
    "\n",
    "        data.append([ball_no, over, bowler, batter, ball_type, shot_type, runs])\n",
    "df = pd.DataFrame(data, columns=[\"Ball No\", \"Over\", \"Bowler\", \"Batter\", \"Ball Type\", \"Shot Type\", \"Runs Scored\"])\n",
    "display(df)\n",
    "\n",
    "       "
   ]
  },
  {
   "cell_type": "code",
   "execution_count": 3,
   "id": "480aaec4-cde1-42ea-a24b-c898f5f22499",
   "metadata": {},
   "outputs": [
    {
     "name": "stdout",
     "output_type": "stream",
     "text": [
      "✅ CSV file saved as 'Structured Data Output.csv'\n"
     ]
    }
   ],
   "source": [
    "csv_filename = \"Structured Data Output.csv\"\n",
    "df.to_csv(csv_filename, index=False)\n",
    "\n",
    "print(f\"✅ CSV file saved as '{csv_filename}'\")\n"
   ]
  },
  {
   "cell_type": "code",
   "execution_count": null,
   "id": "a8fb1f6e-7355-4e00-be5b-b12d9b48fc94",
   "metadata": {},
   "outputs": [],
   "source": []
  }
 ],
 "metadata": {
  "kernelspec": {
   "display_name": "Python 3 (ipykernel)",
   "language": "python",
   "name": "python3"
  },
  "language_info": {
   "codemirror_mode": {
    "name": "ipython",
    "version": 3
   },
   "file_extension": ".py",
   "mimetype": "text/x-python",
   "name": "python",
   "nbconvert_exporter": "python",
   "pygments_lexer": "ipython3",
   "version": "3.12.7"
  }
 },
 "nbformat": 4,
 "nbformat_minor": 5
}
