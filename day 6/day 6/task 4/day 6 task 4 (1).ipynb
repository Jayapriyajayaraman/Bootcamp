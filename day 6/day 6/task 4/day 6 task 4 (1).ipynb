{
 "cells": [
  {
   "cell_type": "code",
   "execution_count": 11,
   "id": "36e36db8-5677-4839-a910-2aaafcff3c52",
   "metadata": {},
   "outputs": [],
   "source": [
    "import pandas as pd\n",
    "all_data = []  \n",
    "all_data.append([\"IPL 2021\", \"2021\", \"MI vs CSK\", \"Wankhede Stadium\", \"2021-04-10\",\n",
    "                 \"MI\", \"180/5\", \"CSK\", \"175/7\", \"1.1\", \"Bumrah\", \"Dhoni\",\n",
    "                 \"Legal\", \"Cover Drive\", \"140\", 4])\n",
    "all_data.append([\"IPL 2022\", \"2022\", \"RCB vs KKR\", \"Chinnaswamy\", \"2022-04-12\",\n",
    "                 \"RCB\", \"160/7\", \"KKR\", \"155/8\", \"3.2\", \"Ferguson\", \"Kohli\",\n",
    "                 \"Legal\", \"Pull Shot\", \"145\", 6])\n",
    "columns = [\"Series Name\", \"Series Year\", \"Match Name\", \"Match Venue\", \"Match Date\",\n",
    "           \"Team 1\", \"Team 1 Score\", \"Team 2\", \"Team 2 Score\",\n",
    "           \"Over\", \"Bowler\", \"Batter\", \"Ball Type\", \"Shot Type\", \"Speed (km/h)\", \"Runs\"]\n",
    "df = pd.DataFrame(all_data, columns=columns)\n"
   ]
  },
  {
   "cell_type": "code",
   "execution_count": 12,
   "id": "ac1dc395-0043-41cc-b9dc-40e95428d9e0",
   "metadata": {},
   "outputs": [
    {
     "name": "stdout",
     "output_type": "stream",
     "text": [
      "Series Name Series Year Match Name      Match Venue Match Date Team 1 Team 1 Score Team 2 Team 2 Score Over   Bowler Batter Ball Type   Shot Type Speed (km/h)  Runs\n",
      "   IPL 2021        2021  MI vs CSK Wankhede Stadium 2021-04-10     MI        180/5    CSK        175/7  1.1   Bumrah  Dhoni     Legal Cover Drive          140     4\n",
      "   IPL 2022        2022 RCB vs KKR      Chinnaswamy 2022-04-12    RCB        160/7    KKR        155/8  3.2 Ferguson  Kohli     Legal   Pull Shot          145     6\n"
     ]
    }
   ],
   "source": [
    "pd.set_option(\"display.max_rows\", None)  # Show all rows\n",
    "pd.set_option(\"display.max_columns\", None)  # Show all columns\n",
    "pd.set_option(\"display.expand_frame_repr\", False)  # Prevents column truncation\n",
    "print(df.to_string(index=False))"
   ]
  },
  {
   "cell_type": "code",
   "execution_count": 14,
   "id": "f816038d-8e04-416c-9a92-a1f911076fa2",
   "metadata": {},
   "outputs": [
    {
     "name": "stdout",
     "output_type": "stream",
     "text": [
      "✅ Data successfully saved to 'dataset.csv'\n"
     ]
    }
   ],
   "source": [
    "\n",
    "csv_filename = \"dataset.csv\"\n",
    "df.to_csv(csv_filename, index=False)\n",
    "\n",
    "print(f\"✅ Data successfully saved to '{csv_filename}'\")\n"
   ]
  },
  {
   "cell_type": "code",
   "execution_count": null,
   "id": "d9aad363-e65d-4a46-b78d-e06fb1e9074a",
   "metadata": {},
   "outputs": [],
   "source": []
  }
 ],
 "metadata": {
  "kernelspec": {
   "display_name": "Python 3 (ipykernel)",
   "language": "python",
   "name": "python3"
  },
  "language_info": {
   "codemirror_mode": {
    "name": "ipython",
    "version": 3
   },
   "file_extension": ".py",
   "mimetype": "text/x-python",
   "name": "python",
   "nbconvert_exporter": "python",
   "pygments_lexer": "ipython3",
   "version": "3.12.7"
  }
 },
 "nbformat": 4,
 "nbformat_minor": 5
}
