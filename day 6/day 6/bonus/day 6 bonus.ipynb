{
 "cells": [
  {
   "cell_type": "code",
   "execution_count": null,
   "id": "0cc0935f-3825-4071-8bf8-0b28d9fe8c96",
   "metadata": {},
   "outputs": [
    {
     "name": "stdout",
     "output_type": "stream",
     "text": [
      "Watching reel for 5 seconds...\n",
      "Watching reel for 5 seconds...\n",
      "Watching reel for 5 seconds...\n",
      "Watching reel for 5 seconds...\n",
      "Watching reel for 5 seconds...\n",
      "Watching reel for 5 seconds...\n",
      "Watching reel for 5 seconds...\n",
      "Watching reel for 5 seconds...\n",
      "Watching reel for 5 seconds...\n",
      "Watching reel for 5 seconds...\n",
      "Watching reel for 5 seconds...\n",
      "Watching reel for 5 seconds...\n",
      "Watching reel for 5 seconds...\n",
      "Watching reel for 5 seconds...\n",
      "Watching reel for 5 seconds...\n",
      "Watching reel for 5 seconds...\n",
      "Watching reel for 5 seconds...\n",
      "Watching reel for 5 seconds...\n",
      "Watching reel for 5 seconds...\n",
      "Watching reel for 5 seconds...\n",
      "Watching reel for 5 seconds...\n",
      "Watching reel for 5 seconds...\n",
      "Watching reel for 5 seconds...\n",
      "Watching reel for 5 seconds...\n",
      "Watching reel for 5 seconds...\n",
      "Watching reel for 5 seconds...\n",
      "Watching reel for 5 seconds...\n",
      "Watching reel for 5 seconds...\n",
      "Watching reel for 5 seconds...\n",
      "Watching reel for 5 seconds...\n",
      "Watching reel for 5 seconds...\n",
      "Watching reel for 5 seconds...\n",
      "Watching reel for 5 seconds...\n"
     ]
    }
   ],
   "source": [
    "import time\n",
    "from selenium import webdriver\n",
    "from selenium.webdriver.chrome.service import Service\n",
    "from selenium.webdriver.common.by import By\n",
    "from selenium.webdriver.common.keys import Keys\n",
    "from webdriver_manager.chrome import ChromeDriverManager\n",
    "\n",
    "service = Service(ChromeDriverManager().install())\n",
    "driver = webdriver.Chrome(service=service)\n",
    "\n",
    "driver.get(\"https://www.instagram.com/reels/\")\n",
    "time.sleep(5)  \n",
    "\n",
    "def get_reel_duration():\n",
    "    try:\n",
    "        duration_element = driver.find_element(By.XPATH, \"//time\")\n",
    "        reel_duration = duration_element.get_attribute(\"datetime\")  \n",
    "        seconds = int(reel_duration.replace(\"PT\", \"\").replace(\"S\", \"\"))\n",
    "        return seconds\n",
    "    except:\n",
    "        return 5 \n",
    "\n",
    "while True:\n",
    "    reel_time = get_reel_duration()\n",
    "    print(f\"Watching reel for {reel_time} seconds...\")\n",
    "    time.sleep(reel_time)  # Wait for reel to complete\n",
    "\n",
    "    webdriver.ActionChains(driver).send_keys(Keys.ARROW_DOWN).perform()\n",
    "    time.sleep(2)  "
   ]
  },
  {
   "cell_type": "code",
   "execution_count": null,
   "id": "ee48555a-5931-4949-be77-5570ffeb35f7",
   "metadata": {},
   "outputs": [],
   "source": []
  }
 ],
 "metadata": {
  "kernelspec": {
   "display_name": "Python 3 (ipykernel)",
   "language": "python",
   "name": "python3"
  },
  "language_info": {
   "codemirror_mode": {
    "name": "ipython",
    "version": 3
   },
   "file_extension": ".py",
   "mimetype": "text/x-python",
   "name": "python",
   "nbconvert_exporter": "python",
   "pygments_lexer": "ipython3",
   "version": "3.12.7"
  }
 },
 "nbformat": 4,
 "nbformat_minor": 5
}
