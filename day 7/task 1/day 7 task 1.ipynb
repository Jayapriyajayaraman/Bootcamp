{
 "cells": [
  {
   "cell_type": "code",
   "execution_count": 1,
   "id": "696b41d5-d2cc-47dd-83c3-18dfe47756f7",
   "metadata": {},
   "outputs": [
    {
     "name": "stdout",
     "output_type": "stream",
     "text": [
      "Defaulting to user installation because normal site-packages is not writeableNote: you may need to restart the kernel to use updated packages.\n",
      "\n",
      "Requirement already satisfied: pandas in c:\\programdata\\anaconda3\\lib\\site-packages (2.2.2)\n",
      "Requirement already satisfied: mysql-connector-python in c:\\users\\jaya priya\\appdata\\roaming\\python\\python312\\site-packages (9.2.0)\n",
      "Requirement already satisfied: openpyxl in c:\\programdata\\anaconda3\\lib\\site-packages (3.1.5)\n",
      "Requirement already satisfied: numpy>=1.26.0 in c:\\programdata\\anaconda3\\lib\\site-packages (from pandas) (1.26.4)\n",
      "Requirement already satisfied: python-dateutil>=2.8.2 in c:\\programdata\\anaconda3\\lib\\site-packages (from pandas) (2.9.0.post0)\n",
      "Requirement already satisfied: pytz>=2020.1 in c:\\programdata\\anaconda3\\lib\\site-packages (from pandas) (2024.1)\n",
      "Requirement already satisfied: tzdata>=2022.7 in c:\\programdata\\anaconda3\\lib\\site-packages (from pandas) (2023.3)\n",
      "Requirement already satisfied: et-xmlfile in c:\\programdata\\anaconda3\\lib\\site-packages (from openpyxl) (1.1.0)\n",
      "Requirement already satisfied: six>=1.5 in c:\\programdata\\anaconda3\\lib\\site-packages (from python-dateutil>=2.8.2->pandas) (1.16.0)\n"
     ]
    }
   ],
   "source": [
    "pip install pandas mysql-connector-python openpyxl\n"
   ]
  },
  {
   "cell_type": "code",
   "execution_count": 6,
   "id": "c48c353f-ae0c-4435-9c40-62dcaee03817",
   "metadata": {},
   "outputs": [],
   "source": [
    "import pandas as pd\n",
    "import mysql.connector"
   ]
  },
  {
   "cell_type": "code",
   "execution_count": 7,
   "id": "c9b9e98c-a3fd-421e-9ce1-9e18cc9410b6",
   "metadata": {},
   "outputs": [],
   "source": [
    "cell_phones_df = pd.read_csv(\"cell_phones_total.csv\")\n",
    "population_df = pd.read_csv(\"pop.csv\")\n"
   ]
  },
  {
   "cell_type": "code",
   "execution_count": 5,
   "id": "d7e8ecca-cd75-4de1-8fb8-d988fe353910",
   "metadata": {},
   "outputs": [],
   "source": [
    "cell_phones_df.rename(columns={'geo': 'Country', 'time': 'Year', 'cell_phones_total': 'Cell_Phone_Total'}, inplace=True)\n",
    "population_df.rename(columns={'geo': 'Country', 'time': 'Year', 'population': 'Population'}, inplace=True)\n"
   ]
  },
  {
   "cell_type": "code",
   "execution_count": 27,
   "id": "245dde90-8c2b-4be4-bca8-e44b1dffe3e9",
   "metadata": {},
   "outputs": [
    {
     "name": "stdout",
     "output_type": "stream",
     "text": [
      "✅ Connected to MySQL!\n"
     ]
    }
   ],
   "source": [
    "import mysql.connector\n",
    "\n",
    "\n",
    "conn = mysql.connector.connect(\n",
    "    host=\"localhost\",\n",
    "    user=\"root\",  \n",
    "    password=\"priya@2004\", \n",
    "    database=\"bootcamp\" \n",
    ")\n",
    "if conn.is_connected():\n",
    "    print(\"✅ Connected to MySQL!\")\n",
    "\n",
    "cursor = conn.cursor()\n"
   ]
  },
  {
   "cell_type": "code",
   "execution_count": 7,
   "id": "051f98b5-0d73-4d93-bde7-41d642f533dc",
   "metadata": {},
   "outputs": [],
   "source": [
    "cursor.execute(\"\"\"\n",
    "    CREATE TABLE IF NOT EXISTS CellPhones (\n",
    "        Country VARCHAR(100),\n",
    "        Year INT,\n",
    "        Cell_Phone_Total BIGINT,\n",
    "        PRIMARY KEY (Country, Year)\n",
    "    )\n",
    "\"\"\")"
   ]
  },
  {
   "cell_type": "code",
   "execution_count": 28,
   "id": "a45d52fd-d780-4fc1-b246-943f11cab20f",
   "metadata": {},
   "outputs": [
    {
     "name": "stdout",
     "output_type": "stream",
     "text": [
      "Tables created successfully!\n"
     ]
    }
   ],
   "source": [
    "cursor.execute(\"\"\"\n",
    "    CREATE TABLE IF NOT EXISTS Population (\n",
    "        Country VARCHAR(100),\n",
    "        Year INT,\n",
    "        Population VARCHAR(20),  # VARCHAR to handle values like \"3.28M\"\n",
    "        PRIMARY KEY (Country, Year)\n",
    "    )\n",
    "\"\"\")\n",
    "\n",
    "conn.commit()\n",
    "print(\"Tables created successfully!\")\n"
   ]
  },
  {
   "cell_type": "code",
   "execution_count": 29,
   "id": "d6055a61-d74b-48cf-be90-a3a7052474a6",
   "metadata": {},
   "outputs": [
    {
     "name": "stdout",
     "output_type": "stream",
     "text": [
      "Data inserted successfully!\n"
     ]
    }
   ],
   "source": [
    "for _, row in cell_phones_df.iterrows():\n",
    "    cell_phone_total = row['Cell_Phone_Total'] if pd.notna(row['Cell_Phone_Total']) else 0\n",
    "    cursor.execute(\n",
    "        \"INSERT IGNORE INTO CellPhones (Country, Year, Cell_Phone_Total) VALUES (%s, %s, %s)\",\n",
    "        (row['Country'], row['Year'], cell_phone_total)\n",
    "    )\n",
    "\n",
    "for _, row in population_df.iterrows():\n",
    "    cursor.execute(\n",
    "        \"INSERT IGNORE INTO Population (Country, Year, Population) VALUES (%s, %s, %s)\",\n",
    "        (row['Country'], row['Year'], row['Population'])\n",
    "    )\n",
    "\n",
    "conn.commit()\n",
    "print(\"Data inserted successfully!\")"
   ]
  },
  {
   "cell_type": "code",
   "execution_count": 30,
   "id": "e4e090de-b70f-4344-90db-16df00521720",
   "metadata": {},
   "outputs": [
    {
     "name": "stdout",
     "output_type": "stream",
     "text": [
      "Updated NULL values to 0.\n"
     ]
    }
   ],
   "source": [
    "cursor.execute(\"\"\"\n",
    "    UPDATE CellPhones \n",
    "    SET Cell_Phone_Total = 0 \n",
    "    WHERE Cell_Phone_Total IS NULL;\n",
    "\"\"\")\n",
    "conn.commit()\n",
    "print(\"Updated NULL values to 0.\")\n"
   ]
  },
  {
   "cell_type": "code",
   "execution_count": 31,
   "id": "382aa126-39ee-476e-8764-2150cf8f61c8",
   "metadata": {},
   "outputs": [
    {
     "name": "stdout",
     "output_type": "stream",
     "text": [
      "Latest Year: 2022\n"
     ]
    }
   ],
   "source": [
    "cursor.execute(\"SELECT MAX(Year) FROM CellPhones;\")\n",
    "latest_year = cursor.fetchone()[0]\n",
    "print(f\"Latest Year: {latest_year}\")\n"
   ]
  },
  {
   "cell_type": "code",
   "execution_count": 32,
   "id": "2574bce8-a354-4342-aa0f-b76dc7d70f00",
   "metadata": {},
   "outputs": [
    {
     "name": "stdout",
     "output_type": "stream",
     "text": [
      "\n",
      "🔝 Top 10 Countries by Mobile Phone Usage in 2022\n",
      "('Hong Kong, China', 292)\n",
      "('UAE', 212)\n",
      "('Libya', 205)\n",
      "('Montenegro', 203)\n",
      "('Seychelles', 192)\n",
      "('El Salvador', 182)\n",
      "('Kuwait', 181)\n",
      "('Thailand', 176)\n",
      "('Macao, China', 175)\n",
      "('Qatar', 174)\n",
      "\n",
      "📈 Mobile Growth in India\n",
      "1960: 0\n",
      "1961: 0\n",
      "1962: 0\n",
      "1963: 0\n",
      "1964: 0\n",
      "1965: 0\n",
      "1966: 0\n",
      "1967: 0\n",
      "1968: 0\n",
      "1969: 0\n",
      "1970: 0\n",
      "1971: 0\n",
      "1972: 0\n",
      "1973: 0\n",
      "1974: 0\n",
      "1975: 0\n",
      "1976: 0\n",
      "1977: 0\n",
      "1978: 0\n",
      "1979: 0\n",
      "1980: 0\n",
      "1981: 0\n",
      "1982: 0\n",
      "1983: 0\n",
      "1984: 0\n",
      "1985: 0\n",
      "1986: 0\n",
      "1987: 0\n",
      "1988: 0\n",
      "1989: 0\n",
      "1990: 0\n",
      "1991: 0\n",
      "1992: 0\n",
      "1993: 0\n",
      "1994: 0\n",
      "1995: 0\n",
      "1996: 0\n",
      "1997: 0\n",
      "1998: 0\n",
      "1999: 0\n",
      "2000: 0\n",
      "2001: 1\n",
      "2002: 1\n",
      "2003: 3\n",
      "2004: 5\n",
      "2005: 8\n",
      "2006: 14\n",
      "2007: 20\n",
      "2008: 29\n",
      "2009: 43\n",
      "2010: 61\n",
      "2011: 71\n",
      "2012: 68\n",
      "2013: 69\n",
      "2014: 72\n",
      "2015: 76\n",
      "2016: 84\n",
      "2017: 86\n",
      "2018: 86\n",
      "2019: 83\n",
      "2020: 83\n",
      "2021: 82\n",
      "2022: 81\n"
     ]
    }
   ],
   "source": [
    "cursor.execute(f\"\"\"\n",
    "    SELECT Country, Cell_Phone_Total \n",
    "    FROM CellPhones \n",
    "    WHERE Year = {latest_year}\n",
    "    ORDER BY Cell_Phone_Total DESC\n",
    "    LIMIT 10;\n",
    "\"\"\")\n",
    "top_countries = cursor.fetchall()\n",
    "\n",
    "print(\"\\n🔝 Top 10 Countries by Mobile Phone Usage in\", latest_year)\n",
    "for country in top_countries:\n",
    "    print(country)\n",
    "cursor.execute(\"\"\"\n",
    "    SELECT Year, Cell_Phone_Total \n",
    "    FROM CellPhones \n",
    "    WHERE Country = 'India'\n",
    "    ORDER BY Year ASC;\n",
    "\"\"\")\n",
    "india_growth = cursor.fetchall()\n",
    "\n",
    "print(\"\\n📈 Mobile Growth in India\")\n",
    "for year, phones in india_growth:\n",
    "    print(f\"{year}: {phones}\")\n"
   ]
  },
  {
   "cell_type": "code",
   "execution_count": 34,
   "id": "4edf719e-4f6b-4c75-9014-fbd2379c047f",
   "metadata": {},
   "outputs": [
    {
     "name": "stdout",
     "output_type": "stream",
     "text": [
      "Data exported successfully to top_mobile_usage_2022.csv\n"
     ]
    },
    {
     "name": "stderr",
     "output_type": "stream",
     "text": [
      "C:\\Users\\Jaya Priya\\AppData\\Local\\Temp\\ipykernel_11952\\4027481611.py:1: UserWarning: pandas only supports SQLAlchemy connectable (engine/connection) or database string URI or sqlite3 DBAPI2 connection. Other DBAPI2 objects are not tested. Please consider using SQLAlchemy.\n",
      "  df = pd.read_sql(\"SELECT * FROM CellPhones WHERE Year = 2022 ORDER BY Cell_Phone_Total DESC;\", conn)\n"
     ]
    }
   ],
   "source": [
    "df = pd.read_sql(\"SELECT * FROM CellPhones WHERE Year = 2022 ORDER BY Cell_Phone_Total DESC;\", conn)\n",
    "df.to_csv(\"top_mobile_usage_2022.csv\", index=False)\n",
    "print(\"Data exported successfully to top_mobile_usage_2022.csv\")\n",
    "\n"
   ]
  },
  {
   "cell_type": "code",
   "execution_count": 35,
   "id": "3e150b57-e8cd-4987-9c6c-24c50398e6f5",
   "metadata": {},
   "outputs": [
    {
     "name": "stdout",
     "output_type": "stream",
     "text": [
      "MySQL connection closed.\n"
     ]
    }
   ],
   "source": [
    "cursor.close()\n",
    "conn.close()\n",
    "print(\"MySQL connection closed.\")"
   ]
  },
  {
   "cell_type": "code",
   "execution_count": null,
   "id": "08e75ca7-3180-454a-9bf8-12dd87dc8fee",
   "metadata": {},
   "outputs": [],
   "source": []
  }
 ],
 "metadata": {
  "kernelspec": {
   "display_name": "Python 3 (ipykernel)",
   "language": "python",
   "name": "python3"
  },
  "language_info": {
   "codemirror_mode": {
    "name": "ipython",
    "version": 3
   },
   "file_extension": ".py",
   "mimetype": "text/x-python",
   "name": "python",
   "nbconvert_exporter": "python",
   "pygments_lexer": "ipython3",
   "version": "3.12.7"
  }
 },
 "nbformat": 4,
 "nbformat_minor": 5
}
